{
 "cells": [
  {
   "cell_type": "markdown",
   "id": "cb04e0a2-68d0-4974-aa4b-029d786208d9",
   "metadata": {},
   "source": [
    "# Pendulum control test\n",
    "\n",
    "Install the following packages:\n",
    "\n",
    "```\n",
    "python -m pip install pyserial\n",
    "```\n",
    "\n",
    "Run stm32-stepper-encoder-control.ino on your STM32 Nucleo board. Connect the USB, change the serial port designator, and run through the cells to test controlling the pendulum."
   ]
  },
  {
   "cell_type": "markdown",
   "id": "828a71f1-6f56-437f-ad00-30d21136732f",
   "metadata": {},
   "source": [
    "## Message format\n",
    "\n",
    "From PC to Arduino (note only commands with * are implemented):\n",
    "\n",
    "```\n",
    "| SOF  | CMD  | DAT  | CHK  | EOF  |\n",
    "| 0xA5 |  xx  | yyyy |  zz  | '\\n' |\n",
    "\n",
    "Commands (xx):\n",
    "  0x00 - Reserved\n",
    "  0x01 - ACK\n",
    "  0x02 - NAK\n",
    "  0x10 - Get encoder angle\n",
    "  0x20 - Get stepper angle\n",
    "  0x21 - Set stepper position as home*\n",
    "  0x22 - Move stepper home*\n",
    "  0x23 - Move stepper by yyyy steps*\n",
    "  0x24 - Move stepper to yyyy steps\n",
    "  \n",
    "Data (yyyy): 16-bit signed ingeter\n",
    "\n",
    "Checksum (zz): XOR of SOF, CMD, and DAT bytes\n",
    "```\n",
    "\n",
    "From Arduino to PC:\n",
    "\n",
    "```\n",
    "| SOF  | ENC  | STP  | CHK  | EOF  |\n",
    "| 0xA5 | aaaa | bbbb |  cc  | '\\n' |\n",
    "\n",
    "Encoder position (aaaa): 16-bit unsigned integer\n",
    "\n",
    "Stepper motor position (bbbb): 16-bit unsigned integer\n",
    "\n",
    "Checksum (cc): XOR of SOF, CMD, and DAT bytes\n",
    "```"
   ]
  },
  {
   "cell_type": "code",
   "execution_count": null,
   "id": "b9d68ead-c8f8-49c4-91e7-5ab9f01da1bc",
   "metadata": {},
   "outputs": [],
   "source": [
    "import sys\n",
    "import struct\n",
    "\n",
    "import serial\n",
    "import serial.tools.list_ports"
   ]
  },
  {
   "cell_type": "code",
   "execution_count": 8,
   "id": "59da3fba-61f3-4f06-8cda-3dd528419c18",
   "metadata": {},
   "outputs": [
    {
     "name": "stdout",
     "output_type": "stream",
     "text": [
      "  COM6 : STMicroelectronics STLink Virtual COM Port (COM6) [USB VID:PID=0483:374B SER=0670FF383034544157091044 LOCATION=1-1:x.2]\n"
     ]
    }
   ],
   "source": [
    "# List available serial ports\n",
    "serial_ports = serial.tools.list_ports.comports()\n",
    "if serial_ports:\n",
    "    for port, desc, hwid in serial_ports:\n",
    "        print(\"  {} : {} [{}]\".format(port, desc, hwid))\n",
    "else:\n",
    "    print(\"No serial ports found\")"
   ]
  },
  {
   "cell_type": "code",
   "execution_count": 9,
   "id": "59c4b0a9-5a7b-452a-aacf-a69d6bd301b1",
   "metadata": {},
   "outputs": [],
   "source": [
    "# Settings\n",
    "SERIAL_PORT = \"COM6\"\n",
    "BAUD_RATE = 115200"
   ]
  },
  {
   "cell_type": "code",
   "execution_count": 6,
   "id": "31a41a00-1c52-4371-8a2e-2b0f48594aee",
   "metadata": {},
   "outputs": [],
   "source": [
    "# Message constants\n",
    "TX_SOF = b'\\xA5'\n",
    "TX_EOF = b'\\x0A'   # '\\n'\n",
    "TX_CMD_ACK = b'\\x01'\n",
    "TX_CMD_NAK = b'\\x02'\n",
    "TX_CMD_GET_ENC = b'\\x10'\n",
    "TX_CMD_GET_STP = b'\\x20'\n",
    "TX_CMD_SET_STP_HOME = b'\\x21'\n",
    "TX_CMD_MOV_STP_HOME = b'\\x22'\n",
    "TX_CMD_MOV_STP_BY = b'\\x23'\n",
    "TX_CMD_MOV_STP_TO = b'\\x24'"
   ]
  },
  {
   "cell_type": "code",
   "execution_count": 7,
   "id": "70d61fcf-c617-4277-ac96-0feb2af1af9a",
   "metadata": {},
   "outputs": [],
   "source": [
    "# XOR all the bytes in a message to get the checksum value\n",
    "def calculate_checksum(msg):\n",
    "    checksum = 0\n",
    "    \n",
    "    # XOR over all bytes\n",
    "    for b in msg:\n",
    "        checksum = checksum ^ b\n",
    "    \n",
    "    return checksum"
   ]
  },
  {
   "cell_type": "code",
   "execution_count": 124,
   "id": "20f20479-5cc3-4885-81aa-6c54c2ca19b1",
   "metadata": {},
   "outputs": [],
   "source": [
    "# Send message over serial\n",
    "def send_message(ser, cmd, dat):\n",
    "    \n",
    "    # Clip data\n",
    "    dat = max(min(32767, dat), -32768)\n",
    "    \n",
    "    # Build message\n",
    "    msg = bytearray()\n",
    "    msg += SOF\n",
    "    msg += cmd\n",
    "    msg += dat.to_bytes(2, 'big')\n",
    "    msg += calculate_checksum(msg).to_bytes(1, 'big')\n",
    "    msg += EOF\n",
    "    \n",
    "    # Send message\n",
    "    ser.write(msg)"
   ]
  },
  {
   "cell_type": "code",
   "execution_count": 10,
   "id": "40d55ff9-6f39-42f8-8bd2-01006e761507",
   "metadata": {},
   "outputs": [
    {
     "ename": "SerialException",
     "evalue": "could not open port 'COM6': PermissionError(13, 'Access is denied.', None, 5)",
     "output_type": "error",
     "traceback": [
      "\u001b[1;31m---------------------------------------------------------------------------\u001b[0m",
      "\u001b[1;31mSerialException\u001b[0m                           Traceback (most recent call last)",
      "Cell \u001b[1;32mIn[10], line 2\u001b[0m\n\u001b[0;32m      1\u001b[0m \u001b[38;5;66;03m# Open serial port\u001b[39;00m\n\u001b[1;32m----> 2\u001b[0m ser \u001b[38;5;241m=\u001b[39m \u001b[43mserial\u001b[49m\u001b[38;5;241;43m.\u001b[39;49m\u001b[43mSerial\u001b[49m\u001b[43m(\u001b[49m\u001b[43mSERIAL_PORT\u001b[49m\u001b[43m,\u001b[49m\u001b[43m \u001b[49m\u001b[43mBAUD_RATE\u001b[49m\u001b[43m)\u001b[49m\n",
      "File \u001b[1;32m~\\anaconda3\\envs\\tensorflow-cpu\\lib\\site-packages\\serial\\serialwin32.py:33\u001b[0m, in \u001b[0;36mSerial.__init__\u001b[1;34m(self, *args, **kwargs)\u001b[0m\n\u001b[0;32m     31\u001b[0m \u001b[38;5;28mself\u001b[39m\u001b[38;5;241m.\u001b[39m_overlapped_read \u001b[38;5;241m=\u001b[39m \u001b[38;5;28;01mNone\u001b[39;00m\n\u001b[0;32m     32\u001b[0m \u001b[38;5;28mself\u001b[39m\u001b[38;5;241m.\u001b[39m_overlapped_write \u001b[38;5;241m=\u001b[39m \u001b[38;5;28;01mNone\u001b[39;00m\n\u001b[1;32m---> 33\u001b[0m \u001b[38;5;28msuper\u001b[39m(Serial, \u001b[38;5;28mself\u001b[39m)\u001b[38;5;241m.\u001b[39m\u001b[38;5;21m__init__\u001b[39m(\u001b[38;5;241m*\u001b[39margs, \u001b[38;5;241m*\u001b[39m\u001b[38;5;241m*\u001b[39mkwargs)\n",
      "File \u001b[1;32m~\\anaconda3\\envs\\tensorflow-cpu\\lib\\site-packages\\serial\\serialutil.py:244\u001b[0m, in \u001b[0;36mSerialBase.__init__\u001b[1;34m(self, port, baudrate, bytesize, parity, stopbits, timeout, xonxoff, rtscts, write_timeout, dsrdtr, inter_byte_timeout, exclusive, **kwargs)\u001b[0m\n\u001b[0;32m    241\u001b[0m     \u001b[38;5;28;01mraise\u001b[39;00m \u001b[38;5;167;01mValueError\u001b[39;00m(\u001b[38;5;124m'\u001b[39m\u001b[38;5;124munexpected keyword arguments: \u001b[39m\u001b[38;5;132;01m{!r}\u001b[39;00m\u001b[38;5;124m'\u001b[39m\u001b[38;5;241m.\u001b[39mformat(kwargs))\n\u001b[0;32m    243\u001b[0m \u001b[38;5;28;01mif\u001b[39;00m port \u001b[38;5;129;01mis\u001b[39;00m \u001b[38;5;129;01mnot\u001b[39;00m \u001b[38;5;28;01mNone\u001b[39;00m:\n\u001b[1;32m--> 244\u001b[0m     \u001b[38;5;28;43mself\u001b[39;49m\u001b[38;5;241;43m.\u001b[39;49m\u001b[43mopen\u001b[49m\u001b[43m(\u001b[49m\u001b[43m)\u001b[49m\n",
      "File \u001b[1;32m~\\anaconda3\\envs\\tensorflow-cpu\\lib\\site-packages\\serial\\serialwin32.py:64\u001b[0m, in \u001b[0;36mSerial.open\u001b[1;34m(self)\u001b[0m\n\u001b[0;32m     62\u001b[0m \u001b[38;5;28;01mif\u001b[39;00m \u001b[38;5;28mself\u001b[39m\u001b[38;5;241m.\u001b[39m_port_handle \u001b[38;5;241m==\u001b[39m win32\u001b[38;5;241m.\u001b[39mINVALID_HANDLE_VALUE:\n\u001b[0;32m     63\u001b[0m     \u001b[38;5;28mself\u001b[39m\u001b[38;5;241m.\u001b[39m_port_handle \u001b[38;5;241m=\u001b[39m \u001b[38;5;28;01mNone\u001b[39;00m    \u001b[38;5;66;03m# 'cause __del__ is called anyway\u001b[39;00m\n\u001b[1;32m---> 64\u001b[0m     \u001b[38;5;28;01mraise\u001b[39;00m SerialException(\u001b[38;5;124m\"\u001b[39m\u001b[38;5;124mcould not open port \u001b[39m\u001b[38;5;132;01m{!r}\u001b[39;00m\u001b[38;5;124m: \u001b[39m\u001b[38;5;132;01m{!r}\u001b[39;00m\u001b[38;5;124m\"\u001b[39m\u001b[38;5;241m.\u001b[39mformat(\u001b[38;5;28mself\u001b[39m\u001b[38;5;241m.\u001b[39mportstr, ctypes\u001b[38;5;241m.\u001b[39mWinError()))\n\u001b[0;32m     66\u001b[0m \u001b[38;5;28;01mtry\u001b[39;00m:\n\u001b[0;32m     67\u001b[0m     \u001b[38;5;28mself\u001b[39m\u001b[38;5;241m.\u001b[39m_overlapped_read \u001b[38;5;241m=\u001b[39m win32\u001b[38;5;241m.\u001b[39mOVERLAPPED()\n",
      "\u001b[1;31mSerialException\u001b[0m: could not open port 'COM6': PermissionError(13, 'Access is denied.', None, 5)"
     ]
    }
   ],
   "source": [
    "# Open serial port\n",
    "ser = serial.Serial(SERIAL_PORT, BAUD_RATE)"
   ]
  },
  {
   "cell_type": "code",
   "execution_count": 172,
   "id": "b55a3e70-b600-4f1e-93dd-b71b65c2c52d",
   "metadata": {},
   "outputs": [
    {
     "name": "stdout",
     "output_type": "stream",
     "text": [
      "b'#\\x00\\x00\\x00\\x00\\r\\n'\n"
     ]
    }
   ],
   "source": [
    "# Write out message\n",
    "cmd = TX_CMD_MOV_STP_BY\n",
    "dat = 100\n",
    "send_message(ser, cmd, dat)\n",
    "\n",
    "# Receive\n",
    "rx_buf = b''\n",
    "if ser.in_waiting > 0:\n",
    "    \n",
    "    # Read the receive buffer\n",
    "    while(ser.in_waiting):\n",
    "        rx_buf += ser.read()\n",
    "        \n",
    "        # Look for newline\n",
    "        if rx_buf[-1] == 10:\n",
    "            print(rx_buf)\n",
    "\n",
    "# TODO:\n",
    "#  Change \"TX\" prefix to something like \"C2A\" and return prefix as \"A2C\"\n",
    "#  Finish RX code in Arduino\n",
    "#  Parse message to move stepper\n",
    "#  Return enc and stepper angles in A2C message"
   ]
  },
  {
   "cell_type": "code",
   "execution_count": null,
   "id": "3250397c-8500-4aa4-8147-01067c59af59",
   "metadata": {},
   "outputs": [],
   "source": []
  },
  {
   "cell_type": "code",
   "execution_count": null,
   "id": "ff16e3ba-5db6-4dad-94f7-8b32e08e0930",
   "metadata": {},
   "outputs": [],
   "source": []
  },
  {
   "cell_type": "code",
   "execution_count": null,
   "id": "ba3f0032-efa9-4471-896f-36e26eb63700",
   "metadata": {},
   "outputs": [],
   "source": []
  },
  {
   "cell_type": "code",
   "execution_count": null,
   "id": "0445c095-0da2-4116-ad90-69c3b65845b7",
   "metadata": {},
   "outputs": [],
   "source": []
  },
  {
   "cell_type": "code",
   "execution_count": 11,
   "id": "e286803a-8069-4283-9ab3-83fec5acf1bf",
   "metadata": {},
   "outputs": [],
   "source": [
    "# Close serial port\n",
    "ser.close()"
   ]
  },
  {
   "cell_type": "code",
   "execution_count": null,
   "id": "9ff367b8-b2c0-4985-bc74-3f0eba532a92",
   "metadata": {},
   "outputs": [],
   "source": []
  }
 ],
 "metadata": {
  "kernelspec": {
   "display_name": "Python 3 (ipykernel)",
   "language": "python",
   "name": "python3"
  },
  "language_info": {
   "codemirror_mode": {
    "name": "ipython",
    "version": 3
   },
   "file_extension": ".py",
   "mimetype": "text/x-python",
   "name": "python",
   "nbconvert_exporter": "python",
   "pygments_lexer": "ipython3",
   "version": "3.9.7"
  }
 },
 "nbformat": 4,
 "nbformat_minor": 5
}
