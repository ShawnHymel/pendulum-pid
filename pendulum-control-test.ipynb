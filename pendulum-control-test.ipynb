{
 "cells": [
  {
   "cell_type": "markdown",
   "id": "cb04e0a2-68d0-4974-aa4b-029d786208d9",
   "metadata": {},
   "source": [
    "# Pendulum control test\n",
    "\n",
    "Install the following packages:\n",
    "\n",
    "```\n",
    "python -m pip install pyserial\n",
    "```\n",
    "\n",
    "Run stm32-stepper-encoder-control.ino on your STM32 Nucleo board. Connect the USB, change the serial port designator, and run through the cells to test controlling the pendulum."
   ]
  },
  {
   "cell_type": "markdown",
   "id": "828a71f1-6f56-437f-ad00-30d21136732f",
   "metadata": {},
   "source": [
    "## Message format\n",
    "\n",
    "From PC to Arduino (note only commands with * are implemented):\n",
    "\n",
    "```\n",
    "| SOF  | CMD  | DAT  | CHK  | EOF  |\n",
    "| 0xA5 |  xx  | yyyy |  zz  | '\\n' |\n",
    "\n",
    "Commands (xx):\n",
    "  0x00 - Reserved\n",
    "  0x01 - ACK\n",
    "  0x02 - NAK\n",
    "  0x10 - Get encoder angle\n",
    "  0x20 - Get stepper angle\n",
    "  0x21 - Set stepper position as home*\n",
    "  0x22 - Move stepper home*\n",
    "  0x23 - Move stepper by yyyy steps*\n",
    "  0x24 - Move stepper to yyyy steps\n",
    "  \n",
    "Data (yyyy): 16-bit signed ingeter\n",
    "\n",
    "Checksum (zz): XOR of SOF, CMD, and DAT bytes\n",
    "```\n",
    "\n",
    "From Arduino to PC:\n",
    "\n",
    "```\n",
    "| SOF  | ENC  | STP  | CHK  | EOF  |\n",
    "| 0xA5 | aaaa | bbbb |  cc  | '\\n' |\n",
    "\n",
    "Encoder position (aaaa): 16-bit unsigned integer\n",
    "\n",
    "Stepper motor position (bbbb): 16-bit unsigned integer\n",
    "\n",
    "Checksum (cc): XOR of SOF, CMD, and DAT bytes\n",
    "```"
   ]
  },
  {
   "cell_type": "code",
   "execution_count": 86,
   "id": "b9d68ead-c8f8-49c4-91e7-5ab9f01da1bc",
   "metadata": {},
   "outputs": [],
   "source": [
    "import sys\n",
    "import struct\n",
    "\n",
    "import serial\n",
    "import serial.tools.list_ports"
   ]
  },
  {
   "cell_type": "code",
   "execution_count": 15,
   "id": "59da3fba-61f3-4f06-8cda-3dd528419c18",
   "metadata": {},
   "outputs": [
    {
     "name": "stdout",
     "output_type": "stream",
     "text": [
      "  COM6 : STMicroelectronics STLink Virtual COM Port (COM6) [USB VID:PID=0483:374B SER=0670FF383034544157091044 LOCATION=1-4.3:x.2]\n"
     ]
    }
   ],
   "source": [
    "# List available serial ports\n",
    "serial_ports = serial.tools.list_ports.comports()\n",
    "if serial_ports:\n",
    "    for port, desc, hwid in serial_ports:\n",
    "        print(\"  {} : {} [{}]\".format(port, desc, hwid))\n",
    "else:\n",
    "    print(\"No serial ports found\")"
   ]
  },
  {
   "cell_type": "code",
   "execution_count": 51,
   "id": "59c4b0a9-5a7b-452a-aacf-a69d6bd301b1",
   "metadata": {},
   "outputs": [],
   "source": [
    "# Settings\n",
    "SERIAL_PORT = \"COM6\"\n",
    "BAUD_RATE = 115200"
   ]
  },
  {
   "cell_type": "code",
   "execution_count": 123,
   "id": "31a41a00-1c52-4371-8a2e-2b0f48594aee",
   "metadata": {},
   "outputs": [],
   "source": [
    "# Message constants\n",
    "TX_SOF = b'\\xA5'\n",
    "TX_EOF = b'\\x0A'   # '\\n'\n",
    "TX_CMD_ACK = b'\\x01'\n",
    "TX_CMD_NAK = b'\\x02'\n",
    "TX_CMD_GET_ENC = b'\\x10'\n",
    "TX_CMD_GET_STP = b'\\x20'\n",
    "TX_CMD_SET_STP_HOME = b'\\x21'\n",
    "TX_CMD_MOV_STP_HOME = b'\\x22'\n",
    "TX_CMD_MOV_STP_BY = b'\\x23'\n",
    "TX_CMD_MOV_STP_TO = b'\\x24'"
   ]
  },
  {
   "cell_type": "code",
   "execution_count": 110,
   "id": "70d61fcf-c617-4277-ac96-0feb2af1af9a",
   "metadata": {},
   "outputs": [],
   "source": [
    "# XOR all the bytes in a message to get the checksum value\n",
    "def calculate_checksum(msg):\n",
    "    checksum = 0\n",
    "    \n",
    "    # XOR over all bytes\n",
    "    for b in msg:\n",
    "        checksum = checksum ^ b\n",
    "    \n",
    "    return checksum"
   ]
  },
  {
   "cell_type": "code",
   "execution_count": 124,
   "id": "20f20479-5cc3-4885-81aa-6c54c2ca19b1",
   "metadata": {},
   "outputs": [],
   "source": [
    "# Send message over serial\n",
    "def send_message(ser, cmd, dat):\n",
    "    \n",
    "    # Clip data\n",
    "    dat = max(min(32767, dat), -32768)\n",
    "    \n",
    "    # Build message\n",
    "    msg = bytearray()\n",
    "    msg += SOF\n",
    "    msg += cmd\n",
    "    msg += dat.to_bytes(2, 'big')\n",
    "    msg += calculate_checksum(msg).to_bytes(1, 'big')\n",
    "    msg += EOF\n",
    "    \n",
    "    # Send message\n",
    "    ser.write(msg)"
   ]
  },
  {
   "cell_type": "code",
   "execution_count": 53,
   "id": "40d55ff9-6f39-42f8-8bd2-01006e761507",
   "metadata": {},
   "outputs": [],
   "source": [
    "# Open serial port\n",
    "ser = serial.Serial(SERIAL_PORT, BAUD_RATE)"
   ]
  },
  {
   "cell_type": "code",
   "execution_count": 172,
   "id": "b55a3e70-b600-4f1e-93dd-b71b65c2c52d",
   "metadata": {},
   "outputs": [
    {
     "name": "stdout",
     "output_type": "stream",
     "text": [
      "b'#\\x00\\x00\\x00\\x00\\r\\n'\n"
     ]
    }
   ],
   "source": [
    "# Write out message\n",
    "cmd = TX_CMD_MOV_STP_BY\n",
    "dat = 100\n",
    "send_message(ser, cmd, dat)\n",
    "\n",
    "# Receive\n",
    "rx_buf = b''\n",
    "if ser.in_waiting > 0:\n",
    "    \n",
    "    # Read the receive buffer\n",
    "    while(ser.in_waiting):\n",
    "        rx_buf += ser.read()\n",
    "        \n",
    "        # Look for newline\n",
    "        if rx_buf[-1] == 10:\n",
    "            print(rx_buf)\n",
    "\n",
    "# TODO:\n",
    "#  Change \"TX\" prefix to something like \"C2A\" and return prefix as \"A2C\"\n",
    "#  Finish RX code in Arduino\n",
    "#  Parse message to move stepper\n",
    "#  Return enc and stepper angles in A2C message"
   ]
  },
  {
   "cell_type": "code",
   "execution_count": null,
   "id": "3250397c-8500-4aa4-8147-01067c59af59",
   "metadata": {},
   "outputs": [],
   "source": []
  },
  {
   "cell_type": "code",
   "execution_count": null,
   "id": "ff16e3ba-5db6-4dad-94f7-8b32e08e0930",
   "metadata": {},
   "outputs": [],
   "source": []
  },
  {
   "cell_type": "code",
   "execution_count": null,
   "id": "ba3f0032-efa9-4471-896f-36e26eb63700",
   "metadata": {},
   "outputs": [],
   "source": []
  },
  {
   "cell_type": "code",
   "execution_count": null,
   "id": "0445c095-0da2-4116-ad90-69c3b65845b7",
   "metadata": {},
   "outputs": [],
   "source": []
  },
  {
   "cell_type": "code",
   "execution_count": 50,
   "id": "e286803a-8069-4283-9ab3-83fec5acf1bf",
   "metadata": {},
   "outputs": [],
   "source": [
    "# Close serial port\n",
    "ser.close()"
   ]
  },
  {
   "cell_type": "code",
   "execution_count": null,
   "id": "9ff367b8-b2c0-4985-bc74-3f0eba532a92",
   "metadata": {},
   "outputs": [],
   "source": []
  }
 ],
 "metadata": {
  "kernelspec": {
   "display_name": "Python 3 (ipykernel)",
   "language": "python",
   "name": "python3"
  },
  "language_info": {
   "codemirror_mode": {
    "name": "ipython",
    "version": 3
   },
   "file_extension": ".py",
   "mimetype": "text/x-python",
   "name": "python",
   "nbconvert_exporter": "python",
   "pygments_lexer": "ipython3",
   "version": "3.9.7"
  }
 },
 "nbformat": 4,
 "nbformat_minor": 5
}
